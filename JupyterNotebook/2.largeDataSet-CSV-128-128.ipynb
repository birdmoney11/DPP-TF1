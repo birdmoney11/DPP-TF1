{
 "cells": [
  {
   "cell_type": "markdown",
   "id": "934e0867",
   "metadata": {},
   "source": [
    "\n",
    "## Prototype: NSFW Image Detector (Male Genital Shaped Items)\n",
    "### Machine Learning and Neural Networks (Template 2: Gather your own dataset)"
   ]
  },
  {
   "cell_type": "markdown",
   "id": "da544102",
   "metadata": {},
   "source": [
    "Image Classification using CNN Keras | Full implementation\n",
    "<br>\n",
    "Source: https://www.youtube.com/watch?v=J1jhfAw5Uvo"
   ]
  },
  {
   "cell_type": "markdown",
   "id": "63c8332a",
   "metadata": {},
   "source": [
    "Prototype main objective: able to classify positive or negative images to accuracy above 50%\n",
    "\n",
    "- Binary classification task"
   ]
  },
  {
   "cell_type": "code",
   "execution_count": 1,
   "id": "61011a23",
   "metadata": {},
   "outputs": [],
   "source": [
    "#import libraries\n",
    "import numpy as np\n",
    "import random\n",
    "import matplotlib.pyplot as plt\n",
    "from tensorflow.keras.models import Sequential\n",
    "from tensorflow.keras.layers import Conv2D, MaxPooling2D, Dense, Flatten\n",
    "from sklearn.utils import shuffle\n",
    "import seaborn as sns\n",
    "\n",
    "import tensorflow as tf\n",
    "import tensorflow_hub as hub\n",
    "import tensorflow_datasets as tfds\n",
    "from keras import models\n",
    "from keras import layers\n",
    "from keras import optimizers\n",
    "from keras import losses\n",
    "from keras import metrics\n",
    "from keras import regularizers"
   ]
  },
  {
   "cell_type": "code",
   "execution_count": 2,
   "id": "11c13fba",
   "metadata": {},
   "outputs": [],
   "source": [
    "# import datat from CSV, labeled as one or zero\n",
    "one_data = np.loadtxt('../90_dataset/1_output.csv', dtype=np.uint8, delimiter = ',')\n",
    "one_label = np.loadtxt('../90_dataset/1_labels.csv', delimiter = ',')\n",
    "zero_data = np.loadtxt('../90_dataset/0_output.csv', dtype=np.uint8, delimiter = ',')\n",
    "zero_label = np.loadtxt('../90_dataset/0_labels.csv', delimiter = ',')"
   ]
  },
  {
   "cell_type": "markdown",
   "id": "97f13380",
   "metadata": {},
   "source": [
    "#shuffle zero and one data\n",
    "one_data, one_label = shuffle(one_data, one_label, random_state=22)\n",
    "zero_data, zero_label = shuffle(zero_data, zero_label, random_state=15)"
   ]
  },
  {
   "cell_type": "code",
   "execution_count": 3,
   "id": "4cbd9ce4",
   "metadata": {},
   "outputs": [
    {
     "name": "stdout",
     "output_type": "stream",
     "text": [
      "one_data: (83555, 49152)\n",
      "one_label: (83555,)\n",
      "zero_data: (86460, 49152)\n",
      "zero_label: (86460,)\n"
     ]
    }
   ],
   "source": [
    "# get shape of all np array\n",
    "print(\"one_data:\", one_data.shape)\n",
    "print(\"one_label:\", one_label.shape)\n",
    "print(\"zero_data:\", zero_data.shape)\n",
    "print(\"zero_label:\", zero_label.shape)"
   ]
  },
  {
   "cell_type": "code",
   "execution_count": 4,
   "id": "ca5b869e",
   "metadata": {},
   "outputs": [
    {
     "name": "stdout",
     "output_type": "stream",
     "text": [
      "one_data array size in GB: 3.8248443603515625\n",
      "zero_data array size in GB: 3.95782470703125\n"
     ]
    }
   ],
   "source": [
    "# check array size in GB, forumla is \"Gigabytes = Bytes ÷ 1,073,741,824\"\n",
    "\n",
    "print(\"one_data array size in GB:\", one_data.nbytes / 1073741824)\n",
    "print(\"zero_data array size in GB:\", zero_data.nbytes / 1073741824)"
   ]
  },
  {
   "cell_type": "code",
   "execution_count": 5,
   "id": "057f40ed",
   "metadata": {},
   "outputs": [],
   "source": [
    "#split label 1 into 70/30 train test split\n",
    "one_data_70 = one_data[:58488]\n",
    "one_label_70 = one_label[:58488]\n",
    "one_data_30 = one_data[58488:]\n",
    "one_label_30 = one_label[58488:]\n",
    "\n",
    "#split label 0 into 70/30\n",
    "zero_data_70 = zero_data[:60522]\n",
    "zero_label_70 = zero_label[:60522]\n",
    "zero_data_30 = zero_data[60522:]\n",
    "zero_label_30 = zero_label[60522:]"
   ]
  },
  {
   "cell_type": "code",
   "execution_count": 6,
   "id": "bcd32ed0",
   "metadata": {},
   "outputs": [
    {
     "data": {
      "text/plain": [
       "(58488, 49152)"
      ]
     },
     "execution_count": 6,
     "metadata": {},
     "output_type": "execute_result"
    }
   ],
   "source": [
    "one_data_70.shape"
   ]
  },
  {
   "cell_type": "code",
   "execution_count": 7,
   "id": "29c41719",
   "metadata": {},
   "outputs": [],
   "source": [
    "#type(one_data_70)"
   ]
  },
  {
   "cell_type": "code",
   "execution_count": 8,
   "id": "60e71671",
   "metadata": {},
   "outputs": [],
   "source": [
    "#combine arrays of 1 and 0 data and get ready for shuffle\n",
    "X_train = np.concatenate((one_data_70, zero_data_70))\n",
    "Y_train = np.concatenate((one_label_70, zero_label_70))\n",
    "\n",
    "X_test = np.concatenate((one_data_30, zero_data_30))\n",
    "Y_test = np.concatenate((one_label_30, zero_label_30))"
   ]
  },
  {
   "cell_type": "code",
   "execution_count": 9,
   "id": "2b6ec8c5",
   "metadata": {},
   "outputs": [
    {
     "name": "stdout",
     "output_type": "stream",
     "text": [
      "X_train: (119010, 49152)\n",
      "Y_train: (119010,)\n",
      "X_test: (51005, 49152)\n",
      "Y_test: (51005,)\n",
      "Train label:  [1. 1. 1. ... 0. 0. 0.]\n",
      "Test label:  [1. 1. 1. ... 0. 0. 0.]\n"
     ]
    }
   ],
   "source": [
    "print(\"X_train:\", X_train.shape)\n",
    "print(\"Y_train:\", Y_train.shape)\n",
    "print(\"X_test:\", X_test.shape)\n",
    "print(\"Y_test:\", Y_test.shape)\n",
    "print(\"Train label: \", Y_train)\n",
    "print(\"Test label: \", Y_test)"
   ]
  },
  {
   "cell_type": "code",
   "execution_count": 10,
   "id": "59b81513",
   "metadata": {},
   "outputs": [],
   "source": [
    "#shuffle combined 1 and 0 data\n",
    "X_train, Y_train = shuffle(X_train, Y_train, random_state=51)\n",
    "X_test, Y_test = shuffle(X_test, Y_test, random_state=26)\n",
    "#shuffle again \n",
    "X_train, Y_train = shuffle(X_train, Y_train, random_state=13)\n",
    "X_test, Y_test = shuffle(X_test, Y_test, random_state=22)"
   ]
  },
  {
   "cell_type": "code",
   "execution_count": 11,
   "id": "2b8bcd45",
   "metadata": {},
   "outputs": [
    {
     "name": "stdout",
     "output_type": "stream",
     "text": [
      "Shuffled train label:  [0. 1. 0. ... 1. 0. 0.]\n",
      "Shuffled test label:  [0. 1. 0. ... 1. 1. 0.]\n"
     ]
    }
   ],
   "source": [
    "print(\"Shuffled train label: \", Y_train)\n",
    "print(\"Shuffled test label: \", Y_test)"
   ]
  },
  {
   "cell_type": "code",
   "execution_count": 30,
   "id": "8e8d0a59",
   "metadata": {},
   "outputs": [],
   "source": [
    "#clear all unused array from memory\n",
    "one_data_70 = []\n",
    "one_label_70 = []\n",
    "one_data_30 = []\n",
    "one_label_30 = []\n",
    "\n",
    "\n",
    "zero_data_70 = []\n",
    "zero_label_70 = []\n",
    "zero_data_30 = []\n",
    "zero_label_30 = []\n",
    "\n",
    "one_data = []\n",
    "one_label = []\n",
    "zero_data = []\n",
    "zero_label = []"
   ]
  },
  {
   "cell_type": "code",
   "execution_count": 14,
   "id": "1b5bf36b",
   "metadata": {},
   "outputs": [],
   "source": [
    "#reshape into 128 x 128 pixels\n",
    "X_train = X_train.reshape(len(X_train), 128, 128, 3)\n",
    "Y_train = Y_train.reshape(len(Y_train), 1)\n",
    "\n",
    "X_test = X_test.reshape(len(X_test), 128, 128, 3)\n",
    "Y_test = Y_test.reshape(len(Y_test), 1)\n",
    "\n",
    "#rescale to 255\n",
    "X_train = np.divide(X_train, 255.0, dtype=np.float16)\n",
    "X_test = np.divide(X_test, 255.0, dtype=np.float16)"
   ]
  },
  {
   "cell_type": "code",
   "execution_count": 18,
   "id": "1eddbd99",
   "metadata": {},
   "outputs": [
    {
     "name": "stdout",
     "output_type": "stream",
     "text": [
      "(119010, 128, 128, 3)\n"
     ]
    },
    {
     "data": {
      "text/plain": [
       "array([[[0.647 , 0.7646, 0.82  ],\n",
       "        [0.643 , 0.7646, 0.8076],\n",
       "        [0.643 , 0.7607, 0.8037],\n",
       "        ...,\n",
       "        [0.2   , 0.3726, 0.3137],\n",
       "        [0.1882, 0.3647, 0.2903],\n",
       "        [0.2274, 0.4038, 0.3765]],\n",
       "\n",
       "       [[0.647 , 0.7607, 0.8076],\n",
       "        [0.651 , 0.7686, 0.8115],\n",
       "        [0.647 , 0.7646, 0.8076],\n",
       "        ...,\n",
       "        [0.1921, 0.3765, 0.298 ],\n",
       "        [0.196 , 0.3882, 0.3098],\n",
       "        [0.2157, 0.3843, 0.341 ]],\n",
       "\n",
       "       [[0.6587, 0.7764, 0.82  ],\n",
       "        [0.651 , 0.7764, 0.82  ],\n",
       "        [0.647 , 0.7725, 0.816 ],\n",
       "        ...,\n",
       "        [0.1726, 0.3647, 0.2864],\n",
       "        [0.1921, 0.392 , 0.3098],\n",
       "        [0.1804, 0.4   , 0.3137]],\n",
       "\n",
       "       ...,\n",
       "\n",
       "       [[0.855 , 0.898 , 0.9136],\n",
       "        [0.894 , 0.9175, 0.949 ],\n",
       "        [0.341 , 0.443 , 0.443 ],\n",
       "        ...,\n",
       "        [0.1765, 0.2825, 0.2666],\n",
       "        [0.2666, 0.5923, 0.4707],\n",
       "        [0.341 , 0.6743, 0.549 ]],\n",
       "\n",
       "       [[0.859 , 0.902 , 0.9175],\n",
       "        [0.89  , 0.9175, 0.949 ],\n",
       "        [0.2783, 0.3726, 0.3608],\n",
       "        ...,\n",
       "        [0.353 , 0.5137, 0.5215],\n",
       "        [0.2942, 0.6157, 0.4902],\n",
       "        [0.3333, 0.651 , 0.5215]],\n",
       "\n",
       "       [[0.8667, 0.898 , 0.9214],\n",
       "        [0.8823, 0.9097, 0.933 ],\n",
       "        [0.255 , 0.3608, 0.3293],\n",
       "        ...,\n",
       "        [0.349 , 0.5845, 0.549 ],\n",
       "        [0.298 , 0.6235, 0.498 ],\n",
       "        [0.3098, 0.6313, 0.4941]]], dtype=float16)"
      ]
     },
     "execution_count": 18,
     "metadata": {},
     "output_type": "execute_result"
    }
   ],
   "source": [
    "print(X_train.shape)\n",
    "X_train[0]"
   ]
  },
  {
   "cell_type": "code",
   "execution_count": 29,
   "id": "59932ea9",
   "metadata": {},
   "outputs": [
    {
     "name": "stdout",
     "output_type": "stream",
     "text": [
      "X_train array size in GB: 10.89569091796875\n",
      "X_test array size in GB: 4.669647216796875\n"
     ]
    }
   ],
   "source": [
    "# check array size in GB, forumla is \"Gigabytes = Bytes ÷ 1,073,741,824\"\n",
    "\n",
    "print(\"X_train array size in GB:\", X_train.nbytes / 1073741824)\n",
    "print(\"X_test array size in GB:\", X_test.nbytes / 1073741824)"
   ]
  },
  {
   "cell_type": "markdown",
   "id": "8f9dc751",
   "metadata": {},
   "source": [
    "# building model"
   ]
  },
  {
   "cell_type": "code",
   "execution_count": 32,
   "id": "e9e56ca0",
   "metadata": {},
   "outputs": [
    {
     "name": "stdout",
     "output_type": "stream",
     "text": [
      "Model: \"sequential\"\n",
      "_________________________________________________________________\n",
      " Layer (type)                Output Shape              Param #   \n",
      "=================================================================\n",
      " conv2d (Conv2D)             (None, 126, 126, 32)      896       \n",
      "                                                                 \n",
      " max_pooling2d (MaxPooling2  (None, 63, 63, 32)        0         \n",
      " D)                                                              \n",
      "                                                                 \n",
      " conv2d_1 (Conv2D)           (None, 61, 61, 32)        9248      \n",
      "                                                                 \n",
      " max_pooling2d_1 (MaxPoolin  (None, 30, 30, 32)        0         \n",
      " g2D)                                                            \n",
      "                                                                 \n",
      " flatten (Flatten)           (None, 28800)             0         \n",
      "                                                                 \n",
      " dense (Dense)               (None, 64)                1843264   \n",
      "                                                                 \n",
      " dense_1 (Dense)             (None, 32)                2080      \n",
      "                                                                 \n",
      " dense_2 (Dense)             (None, 16)                528       \n",
      "                                                                 \n",
      " dense_3 (Dense)             (None, 1)                 17        \n",
      "                                                                 \n",
      "=================================================================\n",
      "Total params: 1856033 (7.08 MB)\n",
      "Trainable params: 1856033 (7.08 MB)\n",
      "Non-trainable params: 0 (0.00 Byte)\n",
      "_________________________________________________________________\n"
     ]
    }
   ],
   "source": [
    "#build model\n",
    "model = Sequential()\n",
    "\n",
    "model.add(Conv2D(32, (3,3), activation = 'relu', input_shape = (128, 128, 3)))\n",
    "model.add(MaxPooling2D((2,2)))\n",
    "\n",
    "model.add(Conv2D(32, (3,3), activation = 'relu'))\n",
    "model.add(MaxPooling2D((2,2)))\n",
    "\n",
    "model.add(Flatten())\n",
    "model.add(Dense(64, activation = 'relu'))\n",
    "model.add(Dense(32, activation = 'relu'))\n",
    "model.add(Dense(16, activation = 'relu'))\n",
    "model.add(Dense(1, activation = 'sigmoid'))\n",
    "model.summary()\n",
    "\n",
    "#optimizers \n",
    "model.compile(loss = 'binary_crossentropy', optimizer = 'adam', metrics = ['accuracy'])"
   ]
  },
  {
   "cell_type": "code",
   "execution_count": 33,
   "id": "ebc0ff1b",
   "metadata": {},
   "outputs": [
    {
     "name": "stdout",
     "output_type": "stream",
     "text": [
      "Epoch 1/5\n",
      "59/59 [==============================] - 573s 9s/step - loss: 0.4225 - accuracy: 0.7989\n",
      "Epoch 2/5\n",
      "59/59 [==============================] - 560s 9s/step - loss: 0.3030 - accuracy: 0.8744\n",
      "Epoch 3/5\n",
      "59/59 [==============================] - 580s 10s/step - loss: 0.2823 - accuracy: 0.8846\n",
      "Epoch 4/5\n",
      "59/59 [==============================] - 560s 9s/step - loss: 0.2831 - accuracy: 0.8838\n",
      "Epoch 5/5\n",
      "59/59 [==============================] - 570s 10s/step - loss: 0.2581 - accuracy: 0.8953\n"
     ]
    }
   ],
   "source": [
    "model.reset_states() \n",
    "history = model.fit(X_train, Y_train, epochs = 5, batch_size = 2048)"
   ]
  },
  {
   "cell_type": "code",
   "execution_count": 34,
   "id": "46a5e4b2",
   "metadata": {},
   "outputs": [
    {
     "name": "stdout",
     "output_type": "stream",
     "text": [
      "1594/1594 [==============================] - 64s 40ms/step - loss: 0.2790 - accuracy: 0.8849\n"
     ]
    }
   ],
   "source": [
    "results = model.evaluate(X_test, Y_test)"
   ]
  },
  {
   "cell_type": "code",
   "execution_count": 35,
   "id": "d7247718",
   "metadata": {},
   "outputs": [
    {
     "data": {
      "text/plain": [
       "dict_keys(['loss', 'accuracy'])"
      ]
     },
     "execution_count": 35,
     "metadata": {},
     "output_type": "execute_result"
    }
   ],
   "source": [
    "#get history\n",
    "history_dict = history.history\n",
    "history_dict.keys()"
   ]
  },
  {
   "cell_type": "code",
   "execution_count": 36,
   "id": "89423bc1",
   "metadata": {},
   "outputs": [
    {
     "data": {
      "image/png": "[encoded data removed]",
      "text/plain": [
       "<Figure size 640x480 with 1 Axes>"
      ]
     },
     "metadata": {},
     "output_type": "display_data"
    }
   ],
   "source": [
    "# Let's plot training and validation accuracy as well as loss.\n",
    "def plot_history(history):\n",
    "    accuracy = history.history['accuracy']\n",
    "    loss = history.history['loss']\n",
    "    epochs = range(1,len(accuracy) + 1)\n",
    "    \n",
    "    # Plot accuracy  \n",
    "    plt.figure(1)\n",
    "    plt.plot(epochs, accuracy, 'b', label='Training accuracy')\n",
    "    plt.plot(epochs, loss, 'y', label='Training loss')\n",
    "    plt.xlabel('Epochs')\n",
    "    plt.ylabel('Accuracy')\n",
    "    plt.grid()\n",
    "    plt.legend()\n",
    "plot_history(history)"
   ]
  },
  {
   "cell_type": "code",
   "execution_count": 39,
   "id": "b8bd89bd",
   "metadata": {},
   "outputs": [
    {
     "name": "stdout",
     "output_type": "stream",
     "text": [
      "1594/1594 [==============================] - 67s 42ms/step\n"
     ]
    },
    {
     "data": {
      "image/png": "[encoded data removed]",
      "text/plain": [
       "<Figure size 640x480 with 2 Axes>"
      ]
     },
     "metadata": {},
     "output_type": "display_data"
    }
   ],
   "source": [
    "#confusion matrix\n",
    "y_pred = (model.predict(X_test)[:, 0] > 0.5).astype(\"int8\")\n",
    "conf_matrix = tf.math.confusion_matrix(labels=Y_test, predictions=y_pred)\n",
    "#SNS heatmap\n",
    "sns.heatmap(conf_matrix, annot=True, cmap='Blues', fmt='d')\n",
    "plt.xlabel('Predicted Labels')\n",
    "plt.ylabel('True Labels')\n",
    "plt.show()"
   ]
  }
 ],
 "metadata": {
  "kernelspec": {
   "display_name": "Python 3 (ipykernel)",
   "language": "python",
   "name": "python3"
  },
  "language_info": {
   "codemirror_mode": {
    "name": "ipython",
    "version": 3
   },
   "file_extension": ".py",
   "mimetype": "text/x-python",
   "name": "python",
   "nbconvert_exporter": "python",
   "pygments_lexer": "ipython3",
   "version": "3.9.18"
  }
 },
 "nbformat": 4,
 "nbformat_minor": 5
}
