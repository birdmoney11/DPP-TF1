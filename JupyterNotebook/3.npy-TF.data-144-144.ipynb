{
 "cells": [
  {
   "cell_type": "markdown",
   "id": "934e0867",
   "metadata": {},
   "source": [
    "\n",
    "## Prototype: NSFW Image Detector (Male Genital Shaped Items)\n",
    "### Machine Learning and Neural Networks (Template 2: Gather your own dataset)"
   ]
  },
  {
   "cell_type": "markdown",
   "id": "da544102",
   "metadata": {},
   "source": [
    "Image Classification using CNN Keras | Full implementation\n",
    "<br>\n",
    "Source: https://www.youtube.com/watch?v=J1jhfAw5Uvo"
   ]
  },
  {
   "cell_type": "markdown",
   "id": "63c8332a",
   "metadata": {},
   "source": [
    "Prototype main objective: able to classify positive or negative images to accuracy above 50%\n",
    "\n",
    "- Binary classification task"
   ]
  },
  {
   "cell_type": "code",
   "execution_count": 1,
   "id": "61011a23",
   "metadata": {},
   "outputs": [
    {
     "name": "stdout",
     "output_type": "stream",
     "text": [
      "WARNING:tensorflow:From C:\\Users\\C\\anaconda3\\lib\\site-packages\\keras\\src\\losses.py:2976: The name tf.losses.sparse_softmax_cross_entropy is deprecated. Please use tf.compat.v1.losses.sparse_softmax_cross_entropy instead.\n",
      "\n",
      "WARNING:tensorflow:From C:\\Users\\C\\anaconda3\\lib\\site-packages\\tensorflow_estimator\\python\\estimator\\util.py:74: The name tf.train.SessionRunHook is deprecated. Please use tf.estimator.SessionRunHook instead.\n",
      "\n",
      "WARNING:tensorflow:From C:\\Users\\C\\anaconda3\\lib\\site-packages\\tensorflow_hub\\native_module.py:92: The name tf.GraphKeys is deprecated. Please use tf.compat.v1.GraphKeys instead.\n",
      "\n",
      "WARNING:tensorflow:From C:\\Users\\C\\anaconda3\\lib\\site-packages\\tensorflow_hub\\saved_model_module.py:40: The name tf.saved_model.constants.LEGACY_INIT_OP_KEY is deprecated. Please use tf.compat.v1.saved_model.constants.LEGACY_INIT_OP_KEY instead.\n",
      "\n"
     ]
    }
   ],
   "source": [
    "#import libraries\n",
    "import numpy as np\n",
    "import random\n",
    "import matplotlib.pyplot as plt\n",
    "from tensorflow.keras.models import Sequential\n",
    "from tensorflow.keras.layers import Conv2D, MaxPooling2D, Dense, Flatten\n",
    "from sklearn.utils import shuffle\n",
    "import seaborn as sns\n",
    "\n",
    "import tensorflow as tf\n",
    "import tensorflow_hub as hub\n",
    "from keras import models\n",
    "from keras import layers\n",
    "from keras import optimizers\n",
    "from keras import losses\n",
    "from keras import metrics\n",
    "from keras import regularizers"
   ]
  },
  {
   "cell_type": "code",
   "execution_count": 2,
   "id": "11c13fba",
   "metadata": {},
   "outputs": [
    {
     "data": {
      "text/plain": [
       "numpy.uint8"
      ]
     },
     "execution_count": 2,
     "metadata": {},
     "output_type": "execute_result"
    }
   ],
   "source": [
    "# import datat from CSV, labeled as one or zero\n",
    "one_data = np.load('../144-set/1_output.npy')\n",
    "one_label = np.load('../144-set/1_labels.npy')\n",
    "zero_data = np.load('../144-set/0_output.npy')\n",
    "zero_label = np.load('../144-set/0_labels.npy')\n",
    "#check dtype\n",
    "type(one_data[0][0])"
   ]
  },
  {
   "cell_type": "code",
   "execution_count": 3,
   "id": "59914034",
   "metadata": {},
   "outputs": [],
   "source": [
    "#reshape into 144 x 144 pixels\n",
    "one_data = one_data.reshape(len(one_data), 144, 144, 3)\n",
    "zero_data = zero_data.reshape(len(zero_data), 144, 144, 3)"
   ]
  },
  {
   "cell_type": "code",
   "execution_count": 4,
   "id": "557993d9",
   "metadata": {},
   "outputs": [],
   "source": [
    "one_data = tf.data.Dataset.from_tensor_slices((one_data, one_label))\n",
    "zero_data = tf.data.Dataset.from_tensor_slices((zero_data, zero_label))"
   ]
  },
  {
   "cell_type": "code",
   "execution_count": 5,
   "id": "f0f16cc5",
   "metadata": {},
   "outputs": [
    {
     "data": {
      "text/plain": [
       "<_TensorSliceDataset element_spec=(TensorSpec(shape=(144, 144, 3), dtype=tf.uint8, name=None), TensorSpec(shape=(), dtype=tf.int64, name=None))>"
      ]
     },
     "execution_count": 5,
     "metadata": {},
     "output_type": "execute_result"
    }
   ],
   "source": [
    "one_data"
   ]
  },
  {
   "cell_type": "code",
   "execution_count": 6,
   "id": "952bc264",
   "metadata": {},
   "outputs": [],
   "source": [
    "def scale(image, label):\n",
    "    return (tf.cast(image, tf.float32) / 255.0, label)"
   ]
  },
  {
   "cell_type": "code",
   "execution_count": 7,
   "id": "f342ecb2",
   "metadata": {},
   "outputs": [],
   "source": [
    "one_data = one_data.map(scale)\n",
    "zero_data = zero_data.map(scale)\n",
    "\n",
    "for image, label in one_data:\n",
    "    pass\n",
    "\n",
    "for image, label in zero_data:\n",
    "    pass"
   ]
  },
  {
   "cell_type": "code",
   "execution_count": 8,
   "id": "5d9b14d1",
   "metadata": {},
   "outputs": [
    {
     "name": "stdout",
     "output_type": "stream",
     "text": [
      "94880\n",
      "91532\n"
     ]
    }
   ],
   "source": [
    "print(len(one_data))\n",
    "print(len(zero_data))"
   ]
  },
  {
   "cell_type": "code",
   "execution_count": 9,
   "id": "15342252",
   "metadata": {},
   "outputs": [],
   "source": [
    "one_data = one_data.shuffle(buffer_size=len(one_data))\n",
    "zero_data = zero_data.shuffle(buffer_size=len(zero_data))"
   ]
  },
  {
   "cell_type": "code",
   "execution_count": 10,
   "id": "cbaad105",
   "metadata": {},
   "outputs": [
    {
     "data": {
      "text/plain": [
       "186412"
      ]
     },
     "execution_count": 10,
     "metadata": {},
     "output_type": "execute_result"
    }
   ],
   "source": [
    "full_dataset = one_data.concatenate(zero_data)\n",
    "full_dataset = full_dataset.shuffle(buffer_size=len(full_dataset))\n",
    "\n",
    "len(full_dataset)"
   ]
  },
  {
   "cell_type": "code",
   "execution_count": 11,
   "id": "18996536",
   "metadata": {},
   "outputs": [
    {
     "data": {
      "text/plain": [
       "186412"
      ]
     },
     "execution_count": 11,
     "metadata": {},
     "output_type": "execute_result"
    }
   ],
   "source": [
    "len(full_dataset)"
   ]
  },
  {
   "cell_type": "code",
   "execution_count": 12,
   "id": "c747c254",
   "metadata": {},
   "outputs": [],
   "source": [
    "DATASET_SIZE = (len(one_data)) + (len(zero_data))\n",
    "\n",
    "train_size = int(0.7 * DATASET_SIZE)\n",
    "test_size = int(0.3 * DATASET_SIZE)\n",
    "\n",
    "train_dataset = full_dataset.take(train_size)\n",
    "test_dataset = full_dataset.skip(train_size)"
   ]
  },
  {
   "cell_type": "code",
   "execution_count": 13,
   "id": "b2e195a4",
   "metadata": {},
   "outputs": [
    {
     "data": {
      "text/plain": [
       "55924"
      ]
     },
     "execution_count": 13,
     "metadata": {},
     "output_type": "execute_result"
    }
   ],
   "source": [
    "len(test_dataset)"
   ]
  },
  {
   "cell_type": "code",
   "execution_count": 14,
   "id": "dbd79d23",
   "metadata": {},
   "outputs": [
    {
     "data": {
      "text/plain": [
       "<_TakeDataset element_spec=(TensorSpec(shape=(144, 144, 3), dtype=tf.float32, name=None), TensorSpec(shape=(), dtype=tf.int64, name=None))>"
      ]
     },
     "execution_count": 14,
     "metadata": {},
     "output_type": "execute_result"
    }
   ],
   "source": [
    "train_dataset"
   ]
  },
  {
   "cell_type": "code",
   "execution_count": 15,
   "id": "1acdde95",
   "metadata": {},
   "outputs": [],
   "source": [
    "\n",
    "# batch the sets\n",
    "batched_train_dataset = train_dataset.batch(512)\n",
    "batched_test_dataset = test_dataset.batch(512)"
   ]
  },
  {
   "cell_type": "code",
   "execution_count": 16,
   "id": "cb880c60",
   "metadata": {},
   "outputs": [],
   "source": [
    "from __future__ import print_function  # for Python2\n",
    "import sys\n",
    "\n",
    "local_vars = list(locals().items())\n",
    "for var, obj in local_vars:\n",
    "    # print var over 1gb for removal\n",
    "    if (sys.getsizeof(obj) / 1000000000) >= 1:\n",
    "        print(var, sys.getsizeof(obj) / 1000000000 )"
   ]
  },
  {
   "cell_type": "markdown",
   "id": "8f9dc751",
   "metadata": {},
   "source": [
    "# building model"
   ]
  },
  {
   "cell_type": "code",
   "execution_count": 17,
   "id": "e9e56ca0",
   "metadata": {},
   "outputs": [
    {
     "name": "stdout",
     "output_type": "stream",
     "text": [
      "WARNING:tensorflow:From C:\\Users\\C\\anaconda3\\lib\\site-packages\\keras\\src\\backend.py:873: The name tf.get_default_graph is deprecated. Please use tf.compat.v1.get_default_graph instead.\n",
      "\n",
      "WARNING:tensorflow:From C:\\Users\\C\\anaconda3\\lib\\site-packages\\keras\\src\\layers\\pooling\\max_pooling2d.py:161: The name tf.nn.max_pool is deprecated. Please use tf.nn.max_pool2d instead.\n",
      "\n",
      "Model: \"sequential\"\n",
      "_________________________________________________________________\n",
      " Layer (type)                Output Shape              Param #   \n",
      "=================================================================\n",
      " conv2d (Conv2D)             (None, 142, 142, 32)      896       \n",
      "                                                                 \n",
      " max_pooling2d (MaxPooling2  (None, 47, 47, 32)        0         \n",
      " D)                                                              \n",
      "                                                                 \n",
      " conv2d_1 (Conv2D)           (None, 45, 45, 32)        9248      \n",
      "                                                                 \n",
      " max_pooling2d_1 (MaxPoolin  (None, 22, 22, 32)        0         \n",
      " g2D)                                                            \n",
      "                                                                 \n",
      " flatten (Flatten)           (None, 15488)             0         \n",
      "                                                                 \n",
      " dense (Dense)               (None, 64)                991296    \n",
      "                                                                 \n",
      " dense_1 (Dense)             (None, 32)                2080      \n",
      "                                                                 \n",
      " dense_2 (Dense)             (None, 16)                528       \n",
      "                                                                 \n",
      " dense_3 (Dense)             (None, 1)                 17        \n",
      "                                                                 \n",
      "=================================================================\n",
      "Total params: 1004065 (3.83 MB)\n",
      "Trainable params: 1004065 (3.83 MB)\n",
      "Non-trainable params: 0 (0.00 Byte)\n",
      "_________________________________________________________________\n"
     ]
    }
   ],
   "source": [
    "#build model\n",
    "model = Sequential()\n",
    "\n",
    "model.add(Conv2D(32, (3,3), activation = 'relu', input_shape = (144, 144, 3)))\n",
    "model.add(MaxPooling2D(3,3))\n",
    "model.add(Conv2D(32, (3,3), activation = 'relu'))\n",
    "model.add(MaxPooling2D((2,2)))\n",
    "\n",
    "model.add(Flatten())\n",
    "model.add(Dense(64, activation = 'relu'))\n",
    "model.add(Dense(32, activation = 'relu'))\n",
    "model.add(Dense(16, activation = 'relu'))\n",
    "model.add(Dense(1, activation = 'sigmoid'))\n",
    "model.summary()\n",
    "\n",
    "#optimizers \n",
    "model.compile(loss = 'binary_crossentropy', optimizer = 'adam', metrics = ['accuracy'])"
   ]
  },
  {
   "cell_type": "code",
   "execution_count": 18,
   "id": "ebc0ff1b",
   "metadata": {},
   "outputs": [
    {
     "name": "stdout",
     "output_type": "stream",
     "text": [
      "Epoch 1/4\n",
      "WARNING:tensorflow:From C:\\Users\\C\\anaconda3\\lib\\site-packages\\keras\\src\\utils\\tf_utils.py:492: The name tf.ragged.RaggedTensorValue is deprecated. Please use tf.compat.v1.ragged.RaggedTensorValue instead.\n",
      "\n",
      "255/255 [==============================] - 700s 2s/step - loss: 0.3345 - accuracy: 0.8512\n",
      "Epoch 2/4\n",
      "255/255 [==============================] - 782s 3s/step - loss: 0.2700 - accuracy: 0.8902\n",
      "Epoch 3/4\n",
      "255/255 [==============================] - 979s 4s/step - loss: 0.2504 - accuracy: 0.8987\n",
      "Epoch 4/4\n",
      "255/255 [==============================] - 657s 2s/step - loss: 0.2369 - accuracy: 0.9050\n"
     ]
    }
   ],
   "source": [
    "model.reset_states() \n",
    "history = model.fit(batched_train_dataset, epochs = 4)"
   ]
  },
  {
   "cell_type": "code",
   "execution_count": 19,
   "id": "46a5e4b2",
   "metadata": {},
   "outputs": [
    {
     "name": "stdout",
     "output_type": "stream",
     "text": [
      "110/110 [==============================] - 865s 2s/step - loss: 0.2184 - accuracy: 0.9124\n"
     ]
    }
   ],
   "source": [
    "results = model.evaluate(batched_test_dataset)"
   ]
  },
  {
   "cell_type": "code",
   "execution_count": 20,
   "id": "d7247718",
   "metadata": {},
   "outputs": [
    {
     "data": {
      "text/plain": [
       "dict_keys(['loss', 'accuracy'])"
      ]
     },
     "execution_count": 20,
     "metadata": {},
     "output_type": "execute_result"
    }
   ],
   "source": [
    "#get history\n",
    "history_dict = history.history\n",
    "history_dict.keys()"
   ]
  },
  {
   "cell_type": "code",
   "execution_count": 21,
   "id": "89423bc1",
   "metadata": {},
   "outputs": [
    {
     "data": {
      "image/png": "[encoded data removed]",
      "text/plain": [
       "<Figure size 640x480 with 1 Axes>"
      ]
     },
     "metadata": {},
     "output_type": "display_data"
    }
   ],
   "source": [
    "# Let's plot training and validation accuracy as well as loss.\n",
    "def plot_history(history):\n",
    "    accuracy = history.history['accuracy']\n",
    "    loss = history.history['loss']\n",
    "    epochs = range(1,len(accuracy) + 1)\n",
    "    \n",
    "    # Plot accuracy  \n",
    "    plt.figure(1)\n",
    "    plt.plot(epochs, accuracy, 'b', label='Training accuracy')\n",
    "    plt.plot(epochs, loss, 'y', label='Training loss')\n",
    "    plt.xlabel('Epochs')\n",
    "    plt.ylabel('Accuracy')\n",
    "    plt.grid()\n",
    "    plt.legend()\n",
    "plot_history(history)"
   ]
  }
 ],
 "metadata": {
  "kernelspec": {
   "display_name": "Python 3 (ipykernel)",
   "language": "python",
   "name": "python3"
  },
  "language_info": {
   "codemirror_mode": {
    "name": "ipython",
    "version": 3
   },
   "file_extension": ".py",
   "mimetype": "text/x-python",
   "name": "python",
   "nbconvert_exporter": "python",
   "pygments_lexer": "ipython3",
   "version": "3.9.18"
  }
 },
 "nbformat": 4,
 "nbformat_minor": 5
}
